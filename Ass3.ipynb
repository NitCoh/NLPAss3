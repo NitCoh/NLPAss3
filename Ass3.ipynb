{
 "cells": [
  {
   "cell_type": "code",
   "execution_count": 19,
   "metadata": {
    "collapsed": true,
    "pycharm": {
     "is_executing": false
    }
   },
   "outputs": [],
   "source": [
    "import matplotlib as plt\n",
    "import numpy as np\n",
    "import nltk\n",
    "from nltk import CFG\n"
   ]
  },
  {
   "cell_type": "markdown",
   "source": [
    "NLP Assignment 3 - Nitzan Cohen & Gal Astrach"
   ],
   "metadata": {
    "collapsed": false,
    "pycharm": {
     "name": "#%% md\n"
    }
   }
  },
  {
   "cell_type": "code",
   "source": [
    "\n",
    "sg = \"\"\"\n",
    "S -> NP VP\n",
    "DET -> 'the' | 'a' | 'A' | 'The' | 'Some'\n",
    "VP -> IV | TV NP | GV NP NP\n",
    "Noun ->   'boy' | 'boys' | 'book'\n",
    "MNoun -> 'butter' | 'bread'\n",
    "ADJ -> 'heavy'\n",
    "PROPN -> 'John' | 'Mary' \n",
    "PRON -> 'They' | 'it' | 'she' | 'Everybody' | 'her' | 'them' | 'She'\n",
    "NP -> MNoun |  DET Noun | DET ADJ Noun |  Noun | PRON  | PROPN \n",
    "IV -> 'left' \n",
    "GV -> 'gave'\n",
    "TV -> 'eats' | 'loves' | 'love' |\n",
    "\"\"\"\n",
    "g = CFG.fromstring(sg)\n",
    "\n",
    "# Bottom-up  parser\n",
    "sr_parser = nltk.ShiftReduceParser(g, trace=2)\n",
    "\n",
    "# Parse sentences and observe the behavior of the parser\n",
    "def parse_sentence(sent):\n",
    "    tokens = sent.split()\n",
    "    trees = sr_parser.parse(tokens)\n",
    "    for tree in trees:\n",
    "        print(tree)\n",
    "\n",
    "parse_sentence(\"John left\")\n",
    "parse_sentence(\"John eats bread\")"
   ],
   "metadata": {
    "collapsed": false,
    "pycharm": {
     "name": "#%% \n",
     "is_executing": false
    }
   },
   "execution_count": 20,
   "outputs": [
    {
     "name": "stdout",
     "text": [
      "Warning: S -> NP VP will never be used\n",
      "Warning: DET -> 'the' will never be used\n",
      "Warning: DET -> 'a' will never be used\n",
      "Warning: DET -> 'A' will never be used\n",
      "Warning: DET -> 'The' will never be used\n",
      "Warning: DET -> 'Some' will never be used\n",
      "Warning: VP -> IV will never be used\n",
      "Warning: VP -> TV NP will never be used\n",
      "Warning: VP -> GV NP NP will never be used\n",
      "Warning: Noun -> 'boy' will never be used\n",
      "Warning: Noun -> 'boys' will never be used\n",
      "Warning: Noun -> 'book' will never be used\n",
      "Warning: MNoun -> 'butter' will never be used\n",
      "Warning: MNoun -> 'bread' will never be used\n",
      "Warning: ADJ -> 'heavy' will never be used\n",
      "Warning: PROPN -> 'John' will never be used\n",
      "Warning: PROPN -> 'Mary' will never be used\n",
      "Warning: PRON -> 'They' will never be used\n",
      "Warning: PRON -> 'it' will never be used\n",
      "Warning: PRON -> 'she' will never be used\n",
      "Warning: PRON -> 'Everybody' will never be used\n",
      "Warning: PRON -> 'her' will never be used\n",
      "Warning: PRON -> 'them' will never be used\n",
      "Warning: PRON -> 'She' will never be used\n",
      "Warning: NP -> MNoun will never be used\n",
      "Warning: NP -> DET Noun will never be used\n",
      "Warning: NP -> DET ADJ Noun will never be used\n",
      "Warning: NP -> Noun will never be used\n",
      "Warning: NP -> PRON will never be used\n",
      "Warning: NP -> PROPN will never be used\n",
      "Warning: IV -> 'left' will never be used\n",
      "Warning: GV -> 'gave' will never be used\n",
      "Warning: TV -> 'eats' will never be used\n",
      "Warning: TV -> 'loves' will never be used\n",
      "Warning: TV -> 'love' will never be used\n",
      "Parsing 'John left'\n",
      "    [ * John left]\n",
      "  S [ 'John' * left]\n",
      "  R [ PROPN * left]\n",
      "  R [ NP * left]\n",
      "  S [ NP 'left' * ]\n",
      "  R [ NP IV * ]\n",
      "  R [ NP VP * ]\n",
      "  R [ S * ]\n",
      "(S (NP (PROPN John)) (VP (IV left)))\n",
      "Parsing 'John eats bread'\n",
      "    [ * John eats bread]\n",
      "  S [ 'John' * eats bread]\n",
      "  R [ PROPN * eats bread]\n",
      "  R [ NP * eats bread]\n",
      "  S [ NP 'eats' * bread]\n",
      "  R [ NP TV * bread]\n",
      "  S [ NP TV 'bread' * ]\n",
      "  R [ NP TV MNoun * ]\n",
      "  R [ NP TV NP * ]\n",
      "  R [ NP VP * ]\n",
      "  R [ S * ]\n",
      "(S (NP (PROPN John)) (VP (TV eats) (NP (MNoun bread))))\n"
     ],
     "output_type": "stream"
    }
   ]
  },
  {
   "cell_type": "markdown",
   "source": [
    "    John loves Mary\n",
    "    They love Mary\n",
    "    They love her\n",
    "    She loves them\n",
    "    Everybody loves John\n",
    "    A boy loves Mary\n",
    "\tThe boy loves Mary\n",
    "\tSome boys love Mary\n",
    "    John gave Mary a heavy book\n",
    "    John gave it to Mary\n",
    "\tJohn likes butter\n",
    "\tJohn moves a chair"
   ],
   "metadata": {
    "collapsed": false,
    "pycharm": {
     "name": "#%% md\n",
     "is_executing": false
    }
   }
  },
  {
   "cell_type": "code",
   "execution_count": 21,
   "outputs": [
    {
     "name": "stdout",
     "text": [
      "Parsing 'John loves Mary'\n",
      "    [ * John loves Mary]\n",
      "  S [ 'John' * loves Mary]\n",
      "  R [ PROPN * loves Mary]\n",
      "  R [ NP * loves Mary]\n",
      "  S [ NP 'loves' * Mary]\n",
      "  R [ NP TV * Mary]\n",
      "  S [ NP TV 'Mary' * ]\n",
      "  R [ NP TV PROPN * ]\n",
      "  R [ NP TV NP * ]\n",
      "  R [ NP VP * ]\n",
      "  R [ S * ]\n",
      "(S (NP (PROPN John)) (VP (TV loves) (NP (PROPN Mary))))\n",
      "Parsing 'They love Mary'\n",
      "    [ * They love Mary]\n",
      "  S [ 'They' * love Mary]\n",
      "  R [ PRON * love Mary]\n",
      "  R [ NP * love Mary]\n",
      "  S [ NP 'love' * Mary]\n",
      "  R [ NP TV * Mary]\n",
      "  S [ NP TV 'Mary' * ]\n",
      "  R [ NP TV PROPN * ]\n",
      "  R [ NP TV NP * ]\n",
      "  R [ NP VP * ]\n",
      "  R [ S * ]\n",
      "(S (NP (PRON They)) (VP (TV love) (NP (PROPN Mary))))\n",
      "Parsing 'They love her'\n",
      "    [ * They love her]\n",
      "  S [ 'They' * love her]\n",
      "  R [ PRON * love her]\n",
      "  R [ NP * love her]\n",
      "  S [ NP 'love' * her]\n",
      "  R [ NP TV * her]\n",
      "  S [ NP TV 'her' * ]\n",
      "  R [ NP TV PRON * ]\n",
      "  R [ NP TV NP * ]\n",
      "  R [ NP VP * ]\n",
      "  R [ S * ]\n",
      "(S (NP (PRON They)) (VP (TV love) (NP (PRON her))))\n",
      "Parsing 'She loves them'\n",
      "    [ * She loves them]\n",
      "  S [ 'She' * loves them]\n",
      "  R [ PRON * loves them]\n",
      "  R [ NP * loves them]\n",
      "  S [ NP 'loves' * them]\n",
      "  R [ NP TV * them]\n",
      "  S [ NP TV 'them' * ]\n",
      "  R [ NP TV PRON * ]\n",
      "  R [ NP TV NP * ]\n",
      "  R [ NP VP * ]\n",
      "  R [ S * ]\n",
      "(S (NP (PRON She)) (VP (TV loves) (NP (PRON them))))\n",
      "Parsing 'Everybody loves John'\n",
      "    [ * Everybody loves John]\n",
      "  S [ 'Everybody' * loves John]\n",
      "  R [ PRON * loves John]\n",
      "  R [ NP * loves John]\n",
      "  S [ NP 'loves' * John]\n",
      "  R [ NP TV * John]\n",
      "  S [ NP TV 'John' * ]\n",
      "  R [ NP TV PROPN * ]\n",
      "  R [ NP TV NP * ]\n",
      "  R [ NP VP * ]\n",
      "  R [ S * ]\n",
      "(S (NP (PRON Everybody)) (VP (TV loves) (NP (PROPN John))))\n",
      "Parsing 'A boy loves Mary'\n",
      "    [ * A boy loves Mary]\n",
      "  S [ 'A' * boy loves Mary]\n",
      "  R [ DET * boy loves Mary]\n",
      "  S [ DET 'boy' * loves Mary]\n",
      "  R [ DET Noun * loves Mary]\n",
      "  R [ NP * loves Mary]\n",
      "  S [ NP 'loves' * Mary]\n",
      "  R [ NP TV * Mary]\n",
      "  S [ NP TV 'Mary' * ]\n",
      "  R [ NP TV PROPN * ]\n",
      "  R [ NP TV NP * ]\n",
      "  R [ NP VP * ]\n",
      "  R [ S * ]\n",
      "(S (NP (DET A) (Noun boy)) (VP (TV loves) (NP (PROPN Mary))))\n",
      "Parsing 'The boy loves Mary'\n",
      "    [ * The boy loves Mary]\n",
      "  S [ 'The' * boy loves Mary]\n",
      "  R [ DET * boy loves Mary]\n",
      "  S [ DET 'boy' * loves Mary]\n",
      "  R [ DET Noun * loves Mary]\n",
      "  R [ NP * loves Mary]\n",
      "  S [ NP 'loves' * Mary]\n",
      "  R [ NP TV * Mary]\n",
      "  S [ NP TV 'Mary' * ]\n",
      "  R [ NP TV PROPN * ]\n",
      "  R [ NP TV NP * ]\n",
      "  R [ NP VP * ]\n",
      "  R [ S * ]\n",
      "(S (NP (DET The) (Noun boy)) (VP (TV loves) (NP (PROPN Mary))))\n",
      "Parsing 'Some boys love Mary'\n",
      "    [ * Some boys love Mary]\n",
      "  S [ 'Some' * boys love Mary]\n",
      "  R [ DET * boys love Mary]\n",
      "  S [ DET 'boys' * love Mary]\n",
      "  R [ DET Noun * love Mary]\n",
      "  R [ NP * love Mary]\n",
      "  S [ NP 'love' * Mary]\n",
      "  R [ NP TV * Mary]\n",
      "  S [ NP TV 'Mary' * ]\n",
      "  R [ NP TV PROPN * ]\n",
      "  R [ NP TV NP * ]\n",
      "  R [ NP VP * ]\n",
      "  R [ S * ]\n",
      "(S (NP (DET Some) (Noun boys)) (VP (TV love) (NP (PROPN Mary))))\n",
      "Parsing 'John gave Mary a heavy book'\n",
      "    [ * John gave Mary a heavy book]\n",
      "  S [ 'John' * gave Mary a heavy book]\n",
      "  R [ PROPN * gave Mary a heavy book]\n",
      "  R [ NP * gave Mary a heavy book]\n",
      "  S [ NP 'gave' * Mary a heavy book]\n",
      "  R [ NP GV * Mary a heavy book]\n",
      "  S [ NP GV 'Mary' * a heavy book]\n",
      "  R [ NP GV PROPN * a heavy book]\n",
      "  R [ NP GV NP * a heavy book]\n",
      "  S [ NP GV NP 'a' * heavy book]\n",
      "  R [ NP GV NP DET * heavy book]\n",
      "  S [ NP GV NP DET 'heavy' * book]\n",
      "  R [ NP GV NP DET ADJ * book]\n",
      "  S [ NP GV NP DET ADJ 'book' * ]\n",
      "  R [ NP GV NP DET ADJ Noun * ]\n",
      "  R [ NP GV NP NP * ]\n",
      "  R [ NP VP * ]\n",
      "  R [ S * ]\n",
      "(S\n",
      "  (NP (PROPN John))\n",
      "  (VP\n",
      "    (GV gave)\n",
      "    (NP (PROPN Mary))\n",
      "    (NP (DET a) (ADJ heavy) (Noun book))))\n"
     ],
     "output_type": "stream"
    }
   ],
   "source": [
    "parse_sentence('John loves Mary')\n",
    "parse_sentence('They love Mary')\n",
    "parse_sentence('They love her')\n",
    "parse_sentence('She loves them')\n",
    "parse_sentence('Everybody loves John')\n",
    "parse_sentence('A boy loves Mary')\n",
    "parse_sentence('The boy loves Mary')\n",
    "parse_sentence('Some boys love Mary')\n",
    "parse_sentence('John gave Mary a heavy book')\n",
    "# parse_sentence('John gave it to Mary')\n",
    "# parse_sentence('John likes butter')\n",
    "# parse_sentence('John moves a chair')"
   ],
   "metadata": {
    "collapsed": false,
    "pycharm": {
     "name": "#%%\n",
     "is_executing": false
    }
   }
  },
  {
   "cell_type": "code",
   "execution_count": 21,
   "outputs": [],
   "source": [
    "\n"
   ],
   "metadata": {
    "collapsed": false,
    "pycharm": {
     "name": "#%%\n",
     "is_executing": false
    }
   }
  },
  {
   "cell_type": "code",
   "execution_count": 22,
   "outputs": [
    {
     "name": "stdout",
     "text": [
      "----------\n",
      "(S\n",
      "  (NP\n",
      "    (NP (Det the) (N man))\n",
      "    (PP\n",
      "      (P with)\n",
      "      (NP\n",
      "        (NP\n",
      "          (NP John)\n",
      "          (PP\n",
      "            (P with)\n",
      "            (NP\n",
      "              (NP (Det my) (N man))\n",
      "              (PP\n",
      "                (P with)\n",
      "                (NP\n",
      "                  (NP (Det the) (N telescope))\n",
      "                  (PP (P with) (NP John)))))))\n",
      "        (PP (P with) (NP (Det the) (N man))))))\n",
      "  (VP (V ate) (NP (Det my) (N telescope))))\n",
      "----------\n",
      "----------\n",
      "(S (NP I) (VP (V saw) (NP (Det the) (N telescope))))\n",
      "----------\n",
      "----------\n",
      "(S\n",
      "  (NP (Det the) (N man))\n",
      "  (VP\n",
      "    (V saw)\n",
      "    (NP\n",
      "      (NP John)\n",
      "      (PP\n",
      "        (P with)\n",
      "        (NP\n",
      "          (NP (Det my) (N telescope))\n",
      "          (PP (P with) (NP (Det the) (N telescope))))))))\n",
      "----------\n",
      "----------\n",
      "(S\n",
      "  (NP (Det the) (N telescope))\n",
      "  (VP (V ate) (NP (Det the) (N telescope))))\n",
      "----------\n",
      "---\n"
     ],
     "output_type": "stream"
    }
   ],
   "source": [
    "from nltk import PCFG\n",
    "from nltk.grammar import Nonterminal\n",
    "from collections import defaultdict\n",
    "from nltk.probability import DictionaryProbDist\n",
    "from nltk import Tree\n",
    "\n",
    "def generate_Tree(symbol,total_dicts):\n",
    "    if type(symbol) != Nonterminal:\n",
    "        return symbol\n",
    "    else:\n",
    "        children = total_dicts[symbol].generate()\n",
    "        return Tree(symbol,[generate_Tree(expander,total_dicts) for expander in children])\n",
    "    \n",
    "def generate_dists(grammar):\n",
    "    \"\"\"@Pre: grammer is PCFG obj\"\"\"\n",
    "    productions = grammar.productions()\n",
    "    total_dicts = {}\n",
    "    collect_productions = defaultdict(lambda : {})\n",
    "    for production in productions:\n",
    "        collect_productions[production.lhs()][production.rhs()] = production.prob()\n",
    "    for lhs,rhs in collect_productions.items():\n",
    "        total_dicts[lhs] = DictionaryProbDist(collect_productions[lhs])\n",
    "    return total_dicts\n",
    "\n",
    "def pcfg_generate(grammar):\n",
    "    \"\"\"@Pre: grammar is PCFG.fromstring\"\"\"\n",
    "    return generate_Tree(Nonterminal('S'),generate_dists(grammar))\n",
    "    \n",
    "#(S (NP I) (VP (V saw)))\n",
    "\n",
    "toy_gram = \"\"\"\n",
    "    S -> NP VP [1.0]\n",
    "    NP -> Det N [0.5] | NP PP [0.25] | 'John' [0.1] | 'I' [0.15]\n",
    "    Det -> 'the' [0.8] | 'my' [0.2]\n",
    "    N -> 'man' [0.5] | 'telescope' [0.5]\n",
    "    VP -> VP PP [0.1] | V NP [0.7] | V [0.2]\n",
    "    V -> 'ate' [0.35] | 'saw' [0.65]\n",
    "    PP -> P NP [1.0]\n",
    "    P -> 'with' [0.61] | 'under' [0.39]\n",
    "\"\"\"\n",
    "\n",
    "for i in range(1,5):\n",
    "    print(\"----------\")\n",
    "    pcfg_gram = PCFG.fromstring(toy_gram)\n",
    "    print(pcfg_generate(pcfg_gram))\n",
    "    print(\"----------\")\n",
    "print('---')"
   ],
   "metadata": {
    "collapsed": false,
    "pycharm": {
     "name": "#%%\n",
     "is_executing": false
    }
   }
  },
  {
   "cell_type": "markdown",
   "source": [
    "Validation"
   ],
   "metadata": {
    "collapsed": false,
    "pycharm": {
     "name": "#%% md\n"
    }
   }
  },
  {
   "cell_type": "code",
   "execution_count": 26,
   "outputs": [
    {
     "name": "stdout",
     "text": [
      "[0.0, 3.646806483579212e-05, 7.993534697401522e-05, 8.368687320128915e-05, 0.00031528906883429835, 0.0, 0.0003882565623225878, 0.00013239326180972718, 0.001820473109977818]\n",
      "1\n"
     ],
     "output_type": "stream"
    }
   ],
   "source": [
    "from nltk import  MLEProbDist,FreqDist\n",
    "import math\n",
    "from collections import defaultdict\n",
    "\n",
    "def calculate_freq_dists(productions):\n",
    "    total_dists = defaultdict(dict)\n",
    "    for prod in productions:\n",
    "        total_dists[prod.lhs()][prod] = total_dists[prod.lhs()].get(prod, 0) + 1\n",
    "    return [FreqDist(val) for key,val in total_dists.items()]\n",
    "    \n",
    "def search_unpack(Q, prod):\n",
    "    for prob_prod in Q.productions():\n",
    "        if prob_prod.lhs() == prod.lhs() and prob_prod.rhs() == prod.rhs():\n",
    "            return prob_prod.prob()\n",
    "    return 0\n",
    "\n",
    "\n",
    "def kl_div(P,Q):\n",
    "    summary = []\n",
    "    eps = 0.0001\n",
    "    prods = generate_dists(Q)\n",
    "    for prod,counts in P.freqdist().items():\n",
    "        p = P.prob(prod)\n",
    "        q = search_unpack(Q, prod)\n",
    "        summary.append((p * math.log((p/q))))\n",
    "    return sum(summary)\n",
    "\n",
    "file_name = 'toy_pcfg2.gen'\n",
    "toy2 = nltk.grammar.toy_pcfg2\n",
    "prods = []\n",
    "with open(file_name, 'w') as the_file:\n",
    "    for i in range(1,1000):\n",
    "        tree = pcfg_generate(toy2)\n",
    "        tree_str = tree.__str__()\n",
    "        prods += Tree.fromstring(tree_str).productions()\n",
    "        the_file.write(tree_str)\n",
    "        the_file.write('\\n')\n",
    "        \n",
    "freq_dists = calculate_freq_dists(prods)\n",
    "MLE_probs = [MLEProbDist(dist) for dist in freq_dists]\n",
    "print([kl_div(p,toy2) for p in MLE_probs])\n"
   ],
   "metadata": {
    "collapsed": false,
    "pycharm": {
     "name": "#%%\n",
     "is_executing": false
    }
   }
  }
 ],
 "metadata": {
  "kernelspec": {
   "display_name": "Python 3",
   "language": "python",
   "name": "python3"
  },
  "language_info": {
   "codemirror_mode": {
    "name": "ipython",
    "version": 2
   },
   "file_extension": ".py",
   "mimetype": "text/x-python",
   "name": "python",
   "nbconvert_exporter": "python",
   "pygments_lexer": "ipython2",
   "version": "2.7.6"
  },
  "pycharm": {
   "stem_cell": {
    "cell_type": "raw",
    "source": [],
    "metadata": {
     "collapsed": false
    }
   }
  }
 },
 "nbformat": 4,
 "nbformat_minor": 0
}