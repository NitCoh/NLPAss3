{
 "cells": [
  {
   "cell_type": "code",
   "execution_count": 1,
   "metadata": {
    "collapsed": true,
    "pycharm": {
     "is_executing": false
    }
   },
   "outputs": [],
   "source": [
    "import matplotlib as plt\n",
    "import numpy as np\n",
    "import nltk\n",
    "from nltk import CFG\n"
   ]
  },
  {
   "cell_type": "markdown",
   "source": [
    "NLP Assignment 3 - Nitzan Cohen & Gal Astrach"
   ],
   "metadata": {
    "collapsed": false,
    "pycharm": {
     "name": "#%% md\n"
    }
   }
  },
  {
   "cell_type": "code",
   "source": [
    "\n",
    "sg = \"\"\"\n",
    "S -> NP VP\n",
    "DET -> 'the' | 'a' | 'A' | 'The' | 'Some'\n",
    "VP -> IV | TV NP | GV NP NP\n",
    "Noun ->   'boy' | 'boys' | 'book'\n",
    "MNoun -> 'butter' | 'bread'\n",
    "ADJ -> 'heavy'\n",
    "PROPN -> 'John' | 'Mary' \n",
    "PRON -> 'They' | 'it' | 'she' | 'Everybody' | 'her' | 'them' | 'She'\n",
    "NP -> MNoun |  DET Noun | DET ADJ Noun |  Noun | PRON  | PROPN \n",
    "IV -> 'left' \n",
    "GV -> 'gave'\n",
    "TV -> 'eats' | 'loves' | 'love' |\n",
    "\"\"\"\n",
    "g = CFG.fromstring(sg)\n",
    "\n",
    "# Bottom-up  parser\n",
    "sr_parser = nltk.ShiftReduceParser(g, trace=2)\n",
    "\n",
    "# Parse sentences and observe the behavior of the parser\n",
    "def parse_sentence(sent):\n",
    "    tokens = sent.split()\n",
    "    trees = sr_parser.parse(tokens)\n",
    "    for tree in trees:\n",
    "        print(tree)\n",
    "\n",
    "parse_sentence(\"John left\")\n",
    "parse_sentence(\"John eats bread\")"
   ],
   "metadata": {
    "collapsed": false,
    "pycharm": {
     "name": "#%% \n",
     "is_executing": false
    }
   },
   "execution_count": 2,
   "outputs": [
    {
     "name": "stdout",
     "text": [
      "Warning: S -> NP VP will never be used\n",
      "Warning: DET -> 'the' will never be used\n",
      "Warning: DET -> 'a' will never be used\n",
      "Warning: DET -> 'A' will never be used\n",
      "Warning: DET -> 'The' will never be used\n",
      "Warning: DET -> 'Some' will never be used\n",
      "Warning: VP -> IV will never be used\n",
      "Warning: VP -> TV NP will never be used\n",
      "Warning: VP -> GV NP NP will never be used\n",
      "Warning: Noun -> 'boy' will never be used\n",
      "Warning: Noun -> 'boys' will never be used\n",
      "Warning: Noun -> 'book' will never be used\n",
      "Warning: MNoun -> 'butter' will never be used\n",
      "Warning: MNoun -> 'bread' will never be used\n",
      "Warning: ADJ -> 'heavy' will never be used\n",
      "Warning: PROPN -> 'John' will never be used\n",
      "Warning: PROPN -> 'Mary' will never be used\n",
      "Warning: PRON -> 'They' will never be used\n",
      "Warning: PRON -> 'it' will never be used\n",
      "Warning: PRON -> 'she' will never be used\n",
      "Warning: PRON -> 'Everybody' will never be used\n",
      "Warning: PRON -> 'her' will never be used\n",
      "Warning: PRON -> 'them' will never be used\n",
      "Warning: PRON -> 'She' will never be used\n",
      "Warning: NP -> MNoun will never be used\n",
      "Warning: NP -> DET Noun will never be used\n",
      "Warning: NP -> DET ADJ Noun will never be used\n",
      "Warning: NP -> Noun will never be used\n",
      "Warning: NP -> PRON will never be used\n",
      "Warning: NP -> PROPN will never be used\n",
      "Warning: IV -> 'left' will never be used\n",
      "Warning: GV -> 'gave' will never be used\n",
      "Warning: TV -> 'eats' will never be used\n",
      "Warning: TV -> 'loves' will never be used\n",
      "Warning: TV -> 'love' will never be used\n",
      "Parsing 'John left'\n",
      "    [ * John left]\n",
      "  S [ 'John' * left]\n",
      "  R [ PROPN * left]\n",
      "  R [ NP * left]\n",
      "  S [ NP 'left' * ]\n",
      "  R [ NP IV * ]\n",
      "  R [ NP VP * ]\n",
      "  R [ S * ]\n",
      "(S (NP (PROPN John)) (VP (IV left)))\n",
      "Parsing 'John eats bread'\n",
      "    [ * John eats bread]\n",
      "  S [ 'John' * eats bread]\n",
      "  R [ PROPN * eats bread]\n",
      "  R [ NP * eats bread]\n",
      "  S [ NP 'eats' * bread]\n",
      "  R [ NP TV * bread]\n",
      "  S [ NP TV 'bread' * ]\n",
      "  R [ NP TV MNoun * ]\n",
      "  R [ NP TV NP * ]\n",
      "  R [ NP VP * ]\n",
      "  R [ S * ]\n",
      "(S (NP (PROPN John)) (VP (TV eats) (NP (MNoun bread))))\n"
     ],
     "output_type": "stream"
    }
   ]
  },
  {
   "cell_type": "markdown",
   "source": [
    "    John loves Mary\n",
    "    They love Mary\n",
    "    They love her\n",
    "    She loves them\n",
    "    Everybody loves John\n",
    "    A boy loves Mary\n",
    "\tThe boy loves Mary\n",
    "\tSome boys love Mary\n",
    "    John gave Mary a heavy book\n",
    "    John gave it to Mary\n",
    "\tJohn likes butter\n",
    "\tJohn moves a chair"
   ],
   "metadata": {
    "collapsed": false,
    "pycharm": {
     "name": "#%% md\n",
     "is_executing": false
    }
   }
  },
  {
   "cell_type": "code",
   "execution_count": 3,
   "outputs": [
    {
     "name": "stdout",
     "text": [
      "Parsing 'John loves Mary'\n",
      "    [ * John loves Mary]\n",
      "  S [ 'John' * loves Mary]\n",
      "  R [ PROPN * loves Mary]\n",
      "  R [ NP * loves Mary]\n",
      "  S [ NP 'loves' * Mary]\n",
      "  R [ NP TV * Mary]\n",
      "  S [ NP TV 'Mary' * ]\n",
      "  R [ NP TV PROPN * ]\n",
      "  R [ NP TV NP * ]\n",
      "  R [ NP VP * ]\n",
      "  R [ S * ]\n",
      "(S (NP (PROPN John)) (VP (TV loves) (NP (PROPN Mary))))\n",
      "Parsing 'They love Mary'\n",
      "    [ * They love Mary]\n",
      "  S [ 'They' * love Mary]\n",
      "  R [ PRON * love Mary]\n",
      "  R [ NP * love Mary]\n",
      "  S [ NP 'love' * Mary]\n",
      "  R [ NP TV * Mary]\n",
      "  S [ NP TV 'Mary' * ]\n",
      "  R [ NP TV PROPN * ]\n",
      "  R [ NP TV NP * ]\n",
      "  R [ NP VP * ]\n",
      "  R [ S * ]\n",
      "(S (NP (PRON They)) (VP (TV love) (NP (PROPN Mary))))\n",
      "Parsing 'They love her'\n",
      "    [ * They love her]\n",
      "  S [ 'They' * love her]\n",
      "  R [ PRON * love her]\n",
      "  R [ NP * love her]\n",
      "  S [ NP 'love' * her]\n",
      "  R [ NP TV * her]\n",
      "  S [ NP TV 'her' * ]\n",
      "  R [ NP TV PRON * ]\n",
      "  R [ NP TV NP * ]\n",
      "  R [ NP VP * ]\n",
      "  R [ S * ]\n",
      "(S (NP (PRON They)) (VP (TV love) (NP (PRON her))))\n",
      "Parsing 'She loves them'\n",
      "    [ * She loves them]\n",
      "  S [ 'She' * loves them]\n",
      "  R [ PRON * loves them]\n",
      "  R [ NP * loves them]\n",
      "  S [ NP 'loves' * them]\n",
      "  R [ NP TV * them]\n",
      "  S [ NP TV 'them' * ]\n",
      "  R [ NP TV PRON * ]\n",
      "  R [ NP TV NP * ]\n",
      "  R [ NP VP * ]\n",
      "  R [ S * ]\n",
      "(S (NP (PRON She)) (VP (TV loves) (NP (PRON them))))\n",
      "Parsing 'Everybody loves John'\n",
      "    [ * Everybody loves John]\n",
      "  S [ 'Everybody' * loves John]\n",
      "  R [ PRON * loves John]\n",
      "  R [ NP * loves John]\n",
      "  S [ NP 'loves' * John]\n",
      "  R [ NP TV * John]\n",
      "  S [ NP TV 'John' * ]\n",
      "  R [ NP TV PROPN * ]\n",
      "  R [ NP TV NP * ]\n",
      "  R [ NP VP * ]\n",
      "  R [ S * ]\n",
      "(S (NP (PRON Everybody)) (VP (TV loves) (NP (PROPN John))))\n",
      "Parsing 'A boy loves Mary'\n",
      "    [ * A boy loves Mary]\n",
      "  S [ 'A' * boy loves Mary]\n",
      "  R [ DET * boy loves Mary]\n",
      "  S [ DET 'boy' * loves Mary]\n",
      "  R [ DET Noun * loves Mary]\n",
      "  R [ NP * loves Mary]\n",
      "  S [ NP 'loves' * Mary]\n",
      "  R [ NP TV * Mary]\n",
      "  S [ NP TV 'Mary' * ]\n",
      "  R [ NP TV PROPN * ]\n",
      "  R [ NP TV NP * ]\n",
      "  R [ NP VP * ]\n",
      "  R [ S * ]\n",
      "(S (NP (DET A) (Noun boy)) (VP (TV loves) (NP (PROPN Mary))))\n",
      "Parsing 'The boy loves Mary'\n",
      "    [ * The boy loves Mary]\n",
      "  S [ 'The' * boy loves Mary]\n",
      "  R [ DET * boy loves Mary]\n",
      "  S [ DET 'boy' * loves Mary]\n",
      "  R [ DET Noun * loves Mary]\n",
      "  R [ NP * loves Mary]\n",
      "  S [ NP 'loves' * Mary]\n",
      "  R [ NP TV * Mary]\n",
      "  S [ NP TV 'Mary' * ]\n",
      "  R [ NP TV PROPN * ]\n",
      "  R [ NP TV NP * ]\n",
      "  R [ NP VP * ]\n",
      "  R [ S * ]\n",
      "(S (NP (DET The) (Noun boy)) (VP (TV loves) (NP (PROPN Mary))))\n",
      "Parsing 'Some boys love Mary'\n",
      "    [ * Some boys love Mary]\n",
      "  S [ 'Some' * boys love Mary]\n",
      "  R [ DET * boys love Mary]\n",
      "  S [ DET 'boys' * love Mary]\n",
      "  R [ DET Noun * love Mary]\n",
      "  R [ NP * love Mary]\n",
      "  S [ NP 'love' * Mary]\n",
      "  R [ NP TV * Mary]\n",
      "  S [ NP TV 'Mary' * ]\n",
      "  R [ NP TV PROPN * ]\n",
      "  R [ NP TV NP * ]\n",
      "  R [ NP VP * ]\n",
      "  R [ S * ]\n",
      "(S (NP (DET Some) (Noun boys)) (VP (TV love) (NP (PROPN Mary))))\n",
      "Parsing 'John gave Mary a heavy book'\n",
      "    [ * John gave Mary a heavy book]\n",
      "  S [ 'John' * gave Mary a heavy book]\n",
      "  R [ PROPN * gave Mary a heavy book]\n",
      "  R [ NP * gave Mary a heavy book]\n",
      "  S [ NP 'gave' * Mary a heavy book]\n",
      "  R [ NP GV * Mary a heavy book]\n",
      "  S [ NP GV 'Mary' * a heavy book]\n",
      "  R [ NP GV PROPN * a heavy book]\n",
      "  R [ NP GV NP * a heavy book]\n",
      "  S [ NP GV NP 'a' * heavy book]\n",
      "  R [ NP GV NP DET * heavy book]\n",
      "  S [ NP GV NP DET 'heavy' * book]\n",
      "  R [ NP GV NP DET ADJ * book]\n",
      "  S [ NP GV NP DET ADJ 'book' * ]\n",
      "  R [ NP GV NP DET ADJ Noun * ]\n",
      "  R [ NP GV NP NP * ]\n",
      "  R [ NP VP * ]\n",
      "  R [ S * ]\n",
      "(S\n",
      "  (NP (PROPN John))\n",
      "  (VP\n",
      "    (GV gave)\n",
      "    (NP (PROPN Mary))\n",
      "    (NP (DET a) (ADJ heavy) (Noun book))))\n"
     ],
     "output_type": "stream"
    }
   ],
   "source": [
    "parse_sentence('John loves Mary')\n",
    "parse_sentence('They love Mary')\n",
    "parse_sentence('They love her')\n",
    "parse_sentence('She loves them')\n",
    "parse_sentence('Everybody loves John')\n",
    "parse_sentence('A boy loves Mary')\n",
    "parse_sentence('The boy loves Mary')\n",
    "parse_sentence('Some boys love Mary')\n",
    "parse_sentence('John gave Mary a heavy book')\n",
    "# parse_sentence('John gave it to Mary')\n",
    "# parse_sentence('John likes butter')\n",
    "# parse_sentence('John moves a chair')"
   ],
   "metadata": {
    "collapsed": false,
    "pycharm": {
     "name": "#%%\n",
     "is_executing": false
    }
   }
  },
  {
   "cell_type": "code",
   "execution_count": 3,
   "outputs": [],
   "source": [
    "\n"
   ],
   "metadata": {
    "collapsed": false,
    "pycharm": {
     "name": "#%%\n",
     "is_executing": false
    }
   }
  },
  {
   "cell_type": "code",
   "execution_count": 4,
   "outputs": [
    {
     "name": "stdout",
     "text": [
      "----------\n",
      "(S\n",
      "  (NP (Det the) (N telescope))\n",
      "  (VP (V saw) (NP (Det the) (N telescope))))\n",
      "----------\n",
      "----------\n",
      "(S (NP I) (VP (V saw) (NP John)))\n",
      "----------\n",
      "----------\n",
      "(S\n",
      "  (NP (Det the) (N telescope))\n",
      "  (VP (VP (V saw)) (PP (P with) (NP (Det the) (N man)))))\n",
      "----------\n",
      "----------\n",
      "(S (NP (Det my) (N telescope)) (VP (V saw)))\n",
      "----------\n",
      "---\n"
     ],
     "output_type": "stream"
    }
   ],
   "source": [
    "from nltk import PCFG\n",
    "from nltk.grammar import Nonterminal\n",
    "from collections import defaultdict\n",
    "from nltk.probability import DictionaryProbDist\n",
    "from nltk import Tree\n",
    "\n",
    "def generate_Tree(symbol,total_dicts):\n",
    "    if type(symbol) != Nonterminal:\n",
    "        return symbol\n",
    "    else:\n",
    "        children = total_dicts[symbol].generate()\n",
    "        return Tree(symbol,[generate_Tree(expander,total_dicts) for expander in children])\n",
    "    \n",
    "def generate_dists(grammar):\n",
    "    \"\"\"@Pre: grammer is PCFG obj\"\"\"\n",
    "    productions = grammar.productions()\n",
    "    total_dicts = {}\n",
    "    collect_productions = defaultdict(lambda : {})\n",
    "    for production in productions:\n",
    "        collect_productions[production.lhs()][production.rhs()] = production.prob()\n",
    "    for lhs,rhs in collect_productions.items():\n",
    "        total_dicts[lhs] = DictionaryProbDist(collect_productions[lhs])\n",
    "    return total_dicts\n",
    "\n",
    "def pcfg_generate(grammar):\n",
    "    \"\"\"@Pre: grammar is PCFG.fromstring\"\"\"\n",
    "    return generate_Tree(Nonterminal('S'),generate_dists(grammar))\n",
    "    \n",
    "#(S (NP I) (VP (V saw)))\n",
    "\n",
    "toy_gram = \"\"\"\n",
    "    S -> NP VP [1.0]\n",
    "    NP -> Det N [0.5] | NP PP [0.25] | 'John' [0.1] | 'I' [0.15]\n",
    "    Det -> 'the' [0.8] | 'my' [0.2]\n",
    "    N -> 'man' [0.5] | 'telescope' [0.5]\n",
    "    VP -> VP PP [0.1] | V NP [0.7] | V [0.2]\n",
    "    V -> 'ate' [0.35] | 'saw' [0.65]\n",
    "    PP -> P NP [1.0]\n",
    "    P -> 'with' [0.61] | 'under' [0.39]\n",
    "\"\"\"\n",
    "\n",
    "for i in range(1,5):\n",
    "    print(\"----------\")\n",
    "    pcfg_gram = PCFG.fromstring(toy_gram)\n",
    "    print(pcfg_generate(pcfg_gram))\n",
    "    print(\"----------\")\n",
    "print('---')"
   ],
   "metadata": {
    "collapsed": false,
    "pycharm": {
     "name": "#%%\n",
     "is_executing": false
    }
   }
  },
  {
   "cell_type": "markdown",
   "source": [
    "Validation"
   ],
   "metadata": {
    "collapsed": false,
    "pycharm": {
     "name": "#%% md\n"
    }
   }
  },
  {
   "cell_type": "code",
   "execution_count": 5,
   "outputs": [
    {
     "name": "stdout",
     "text": [
      "[0.0, 0.0005022154373820736, 8.425704397979194e-05, 0.0011801037254316649, 0.001537980438048838, 8.240690538049988e-05, 0.0009926693649000761, 0.0, 0.0001280883417822407]\n"
     ],
     "output_type": "stream"
    }
   ],
   "source": [
    "from nltk import  MLEProbDist,FreqDist,Production\n",
    "import math\n",
    "from collections import defaultdict\n",
    "\n",
    "def calculate_freq_dists(productions):\n",
    "    total_dists = defaultdict(dict)\n",
    "    for prod in productions:\n",
    "        total_dists[prod.lhs()][prod] = total_dists[prod.lhs()].get(prod, 0) + 1\n",
    "    return [FreqDist(val) for key,val in total_dists.items()]\n",
    "    \n",
    "def search_unpack(Q, prod):\n",
    "    for prob_prod in Q.productions():\n",
    "        if prob_prod.lhs() == prod.lhs() and prob_prod.rhs() == prod.rhs():\n",
    "            return prob_prod.prob()\n",
    "    return 0\n",
    "\n",
    "\n",
    "def kl_div_spec(P,Q):\n",
    "    summary = []\n",
    "    eps = 0.0001\n",
    "    SP = set(tuple(P.freqdist().keys()))\n",
    "    if len(SP) == 0: return 1\n",
    "    p_lhs = list(P.freqdist().keys())[0]\n",
    "    prob_prods_q = filter(lambda x : x.lhs() == p_lhs.lhs(),Q.productions())\n",
    "    SQ = set(tuple(map(lambda x : Production(x.lhs(),x.rhs()),prob_prods_q)))\n",
    "    SU = set()\n",
    "    SU = SU.union(SP,SQ)\n",
    "    \n",
    "    pc = eps*len(SU.difference(SP))/len(SP)\n",
    "    qc = eps*len(SU.difference(SQ))/len(SQ)\n",
    "    \n",
    "    \n",
    "    for prod,counts in P.freqdist().items():\n",
    "        p = P.prob(prod) - pc if prod in SP else eps\n",
    "        q = search_unpack(Q, prod) - qc if prod in SQ else eps \n",
    "        summary.append((p * math.log((p/q))))\n",
    "    return sum(summary)\n",
    "\n",
    "file_name = 'toy_pcfg2.gen'\n",
    "toy2 = nltk.grammar.toy_pcfg2\n",
    "prods = []\n",
    "with open(file_name, 'w') as the_file:\n",
    "    for i in range(1,1000):\n",
    "        tree = pcfg_generate(toy2)\n",
    "        tree_str = tree.__str__()\n",
    "        prods += Tree.fromstring(tree_str).productions()\n",
    "        the_file.write(tree_str)\n",
    "        the_file.write('\\n')\n",
    "        \n",
    "freq_dists = calculate_freq_dists(prods)\n",
    "MLE_probs = [MLEProbDist(dist) for dist in freq_dists]\n",
    "print([kl_div_spec(p,toy2) for p in MLE_probs])"
   ],
   "metadata": {
    "collapsed": false,
    "pycharm": {
     "name": "#%%\n",
     "is_executing": false
    }
   }
  },
  {
   "cell_type": "markdown",
   "source": [
    "We can see that the KL-Divergence is almost 0 in all of the distributions,\n",
    "therefore we can infer that the distribution for each non-terminal was sampled according to\n",
    "distribution of the PCFG given.\n"
   ],
   "metadata": {
    "collapsed": false,
    "pycharm": {
     "name": "#%% md\n"
    }
   }
  },
  {
   "cell_type": "markdown",
   "source": [
    "Question 2.2: Learn a PCFG from a Treebank\n",
    "\n",
    "2.2.1"
   ],
   "metadata": {
    "collapsed": false,
    "pycharm": {
     "name": "#%% md\n"
    }
   }
  },
  {
   "cell_type": "code",
   "execution_count": 6,
   "outputs": [
    {
     "name": "stdout",
     "text": [
      "(S\n",
      "  (S-TPC-1\n",
      "    (NP-SBJ\n",
      "      (NP (NP (DT A) (NN form)) (PP (IN of) (NP (NN asbestos))))\n",
      "      (RRC\n",
      "        (ADVP-TMP (RB once))\n",
      "        (VP\n",
      "          (VBN used)\n",
      "          (NP (-NONE- *))\n",
      "          (S-CLR\n",
      "            (NP-SBJ (-NONE- *))\n",
      "            (VP\n",
      "              (TO to)\n",
      "              (VP\n",
      "                (VB make)\n",
      "                (NP (NNP Kent) (NN cigarette) (NNS filters))))))))\n",
      "    (VP\n",
      "      (VBZ has)\n",
      "      (VP\n",
      "        (VBN caused)\n",
      "        (NP\n",
      "          (NP (DT a) (JJ high) (NN percentage))\n",
      "          (PP (IN of) (NP (NN cancer) (NNS deaths)))\n",
      "          (PP-LOC\n",
      "            (IN among)\n",
      "            (NP\n",
      "              (NP (DT a) (NN group))\n",
      "              (PP\n",
      "                (IN of)\n",
      "                (NP\n",
      "                  (NP (NNS workers))\n",
      "                  (RRC\n",
      "                    (VP\n",
      "                      (VBN exposed)\n",
      "                      (NP (-NONE- *))\n",
      "                      (PP-CLR (TO to) (NP (PRP it)))\n",
      "                      (ADVP-TMP\n",
      "                        (NP\n",
      "                          (QP (RBR more) (IN than) (CD 30))\n",
      "                          (NNS years))\n",
      "                        (IN ago))))))))))))\n",
      "  (, ,)\n",
      "  (NP-SBJ (NNS researchers))\n",
      "  (VP (VBD reported) (SBAR (-NONE- 0) (S (-NONE- *T*-1))))\n",
      "  (. .))\n",
      "A form of asbestos once used * * to make Kent cigarette filters has caused a high percentage of cancer deaths among a group of workers exposed * to it more than 30 years ago , researchers reported 0 *T*-1 .\n"
     ],
     "output_type": "stream"
    }
   ],
   "source": [
    "\n",
    "from nltk.corpus import LazyCorpusLoader, BracketParseCorpusReader\n",
    "\n",
    "def simplify_functional_tag(tag):\n",
    "    if '-' in tag:\n",
    "        tag = tag.split('-')[0]\n",
    "    return tag\n",
    "\n",
    "treebank = LazyCorpusLoader('treebank/combined', BracketParseCorpusReader, r'wsj_.*\\.mrg')\n",
    "\n",
    "# Raw form\n",
    "# print(treebank.parsed_sents()[:1])\n",
    "\n",
    "# Pretty print\n",
    "print(treebank.parsed_sents()[3])\n",
    "\n",
    "print(\" \".join(treebank.parsed_sents()[3].leaves()))\n"
   ],
   "metadata": {
    "collapsed": false,
    "pycharm": {
     "name": "#%%\n",
     "is_executing": false
    }
   }
  },
  {
   "cell_type": "code",
   "execution_count": 7,
   "outputs": [],
   "source": [
    "# we need to transform the tree to remove NONE tags and simplify tags.\n",
    "\n",
    "from nltk.grammar import Production\n",
    "from nltk import Tree, Nonterminal\n",
    "\n",
    "\n",
    "def get_tag(tree,interior_nodes):\n",
    "    if isinstance(tree, Tree):\n",
    "        interior_nodes[\"interior_nodes\"] = interior_nodes.get(\"interior_nodes\") + 1 \n",
    "        return Nonterminal(simplify_functional_tag(tree.label()))\n",
    "    else:\n",
    "        return tree\n",
    "\n",
    "def tree_to_production(tree,interior_nodes):\n",
    "    return Production(get_tag(tree,interior_nodes), [get_tag(child,interior_nodes) for child in tree])\n",
    "\n",
    "none_pred = lambda x: x.label() == '-NONE-'\n",
    "\n",
    "def do_not_exist_NONE(tree):\n",
    "    for child in tree:\n",
    "        if isinstance(child,Tree) and none_pred(child):\n",
    "            return False\n",
    "    return True\n",
    "\n",
    "def tree_to_productions(tree, interior_nodes={\"interior_nodes\": 0}):\n",
    "    if do_not_exist_NONE(tree):      \n",
    "        yield tree_to_production(tree, interior_nodes)\n",
    "        for child in tree:\n",
    "            if isinstance(child, Tree):\n",
    "                for prod in tree_to_productions(child, interior_nodes):\n",
    "                    yield prod\n",
    "                "
   ],
   "metadata": {
    "collapsed": false,
    "pycharm": {
     "name": "#%%\n",
     "is_executing": false
    }
   }
  },
  {
   "cell_type": "code",
   "execution_count": 8,
   "outputs": [],
   "source": [
    "trial = Tree.fromstring(\"\"\"\n",
    "        (VP\n",
    "          (VBN used)\n",
    "          (NP (-NONE- *)))\n",
    "\"\"\")\n",
    "# print(trial)\n",
    "# \n",
    "# f = tree_to_productions(trial)\n",
    "# \n",
    "# for prod in f:\n",
    "#     print(prod)\n",
    "#     print(\"\\n\")"
   ],
   "metadata": {
    "collapsed": false,
    "pycharm": {
     "name": "#%%\n",
     "is_executing": false
    }
   }
  },
  {
   "cell_type": "code",
   "execution_count": 9,
   "outputs": [],
   "source": [
    "\n",
    "def induce_prod_dists(treebank,n):\n",
    "    prods_counter = 0\n",
    "    prod_dists = defaultdict(int)\n",
    "    interior_nodes = {\"interior_nodes\": 0}\n",
    "    \n",
    "    for tree in treebank.parsed_sents()[:n]:\n",
    "        gen = tree_to_productions(tree,interior_nodes)\n",
    "        for prod in gen:\n",
    "            prod_dists[prod] = prod_dists.get(prod,0) + 1\n",
    "            prods_counter+=1\n",
    "    \n",
    "    print(\"Number of interior nodes {}\".format(interior_nodes))\n",
    "    print(\"Number of prods {}\".format(prods_counter))\n",
    "    return prod_dists\n",
    "\n",
    "def pcfg_learn(treebank,n):\n",
    "    interior_nodes = {\"interior_nodes\": 0}\n",
    "    prods = []\n",
    "    for tree in treebank.parsed_sents()[:n]:\n",
    "        gen = tree_to_productions(tree,interior_nodes)\n",
    "        for prod in gen:\n",
    "            prods.append(prod)\n",
    "    \n",
    "    print(\"Number of interior nodes {}\".format(interior_nodes))\n",
    "    print(\"Number of prods {}\".format(len(prods)))\n",
    "    return induce_pcfg(Nonterminal(\"S\"),prods)"
   ],
   "metadata": {
    "collapsed": false,
    "pycharm": {
     "name": "#%%\n",
     "is_executing": false
    }
   }
  },
  {
   "cell_type": "code",
   "execution_count": 10,
   "outputs": [
    {
     "name": "stdout",
     "text": [
      "Number of interior nodes {'interior_nodes': 14966}\n",
      "Number of prods 7438\n",
      "Number of interior nodes {'interior_nodes': 28769}\n",
      "Number of prods 14311\n"
     ],
     "output_type": "stream"
    },
    {
     "data": {
      "text/plain": "<Figure size 1080x1080 with 1 Axes>",
      "image/png": "[encoded data removed]"
     },
     "metadata": {
      "needs_background": "light"
     },
     "output_type": "display_data"
    },
    {
     "data": {
      "text/plain": "<Figure size 1080x1080 with 1 Axes>",
      "image/png": "[encoded data removed]"
     },
     "metadata": {
      "needs_background": "light"
     },
     "output_type": "display_data"
    },
    {
     "data": {
      "text/plain": "<Figure size 1080x1080 with 1 Axes>",
      "image/png": "[encoded data removed]"
     },
     "metadata": {
      "needs_background": "light"
     },
     "output_type": "display_data"
    }
   ],
   "source": [
    "def sort_dict(dic, pred=lambda x : x[1], reverse=True):\n",
    "    return dict(sorted(dic.items(),key=pred,reverse=reverse))\n",
    "\n",
    "\n",
    "\n",
    "\n",
    "\n",
    "prod_dists_200 = induce_prod_dists(treebank, 200)\n",
    "prod_dists_200 = sort_dict(prod_dists_200)\n",
    "\n",
    "prod_dists_400 = induce_prod_dists(treebank, 400)\n",
    "prod_dists_400 = sort_dict(prod_dists_400)\n",
    "\n",
    "import matplotlib.pyplot as plt\n",
    "plt.rcParams['figure.figsize'] = [15, 15]\n",
    "# label_size = 4\n",
    "# plt.rcParams['xtick.labelsize'] = label_size \n",
    "plt.plot(range(len(prod_dists_200)),list(prod_dists_200.values()))\n",
    "# plt.plot([freq for freq in prod_dists.values()],[str(prod) for prod in prod_dists.keys()])\n",
    "plt.ylabel('frequency')\n",
    "plt.xlabel('productions')\n",
    "# plt.xticks(range(len(prod_dists)),list(prod_dists.keys()))\n",
    "plt.show()\n",
    "\n",
    "\n",
    "max_items = 10\n",
    "plt.plot(range(max_items),list(prod_dists_200.values())[:max_items])\n",
    "# plt.plot([freq for freq in prod_dists.values()],[str(prod) for prod in prod_dists.keys()])\n",
    "plt.ylabel('frequency')\n",
    "plt.xlabel('productions')\n",
    "plt.xticks(range(max_items),list(prod_dists_200.keys()))\n",
    "plt.show()\n",
    "\n",
    "\n",
    "plt.plot(range(max_items),list(prod_dists_400.values())[:max_items])\n",
    "# plt.plot([freq for freq in prod_dists.values()],[str(prod) for prod in prod_dists.keys()])\n",
    "plt.ylabel('frequency')\n",
    "plt.xlabel('productions')\n",
    "plt.xticks(range(max_items),list(prod_dists_400.keys()))\n",
    "plt.show()\n",
    "\n"
   ],
   "metadata": {
    "collapsed": false,
    "pycharm": {
     "name": "#%%\n",
     "is_executing": false
    }
   }
  },
  {
   "cell_type": "code",
   "execution_count": 11,
   "outputs": [],
   "source": [
    "from nltk import induce_pcfg\n",
    "\n",
    "two_hundered = induce_pcfg(Nonterminal('S'),list(prod_dists_200.keys()))\n",
    "\n",
    "four_hundered = induce_pcfg(Nonterminal('S'),list(prod_dists_400.keys()))"
   ],
   "metadata": {
    "collapsed": false,
    "pycharm": {
     "name": "#%%\n",
     "is_executing": false
    }
   }
  },
  {
   "cell_type": "markdown",
   "source": [
    "The rules are quite similar according to the graphs of the top10 most frequent rules in the data."
   ],
   "metadata": {
    "collapsed": false,
    "pycharm": {
     "name": "#%% md\n"
    }
   }
  },
  {
   "cell_type": "markdown",
   "source": [
    "##Question 2.3 "
   ],
   "metadata": {
    "collapsed": false
   }
  },
  {
   "cell_type": "code",
   "execution_count": 12,
   "outputs": [],
   "source": [
    "from nltk import treetransforms\n",
    "# \n",
    "# def convert2cnf(trees):\n",
    "#     for tr in trees:\n",
    "#         treetransforms.chomsky_normal_form(tr)\n",
    "\n",
    "\n",
    "def induce_prod_dists_cnf(treebank,n):\n",
    "    prods_counter=0\n",
    "    prod_dists = defaultdict(int)\n",
    "    interior_nodes = {\"interior_nodes\": 0}\n",
    "    for tree in treebank.parsed_sents()[:n]:\n",
    "        treetransforms.chomsky_normal_form(tree)\n",
    "        gen = tree_to_productions(tree, interior_nodes)\n",
    "        for prod in gen:\n",
    "            prod_dists[prod] = prod_dists.get(prod,0) + 1\n",
    "            prods_counter+=1\n",
    "    print(\"Number of interior nodes {}\".format(interior_nodes))\n",
    "    print(\"Number of prods {}\".format(prods_counter))\n",
    "    return prod_dists\n",
    "\n",
    "\n",
    "def pcfg_cnf_learn(treebank,n,wildcard=False):\n",
    "    prods = []\n",
    "    interior_nodes = {\"interior_nodes\": 0}\n",
    "    for tree in treebank.parsed_sents()[:n]:\n",
    "        treetransforms.chomsky_normal_form(tree)\n",
    "        gen = tree_to_productions(tree, interior_nodes)\n",
    "        for prod in gen:\n",
    "            prods.append(prod)\n",
    "    print(\"Number of interior nodes {}\".format(interior_nodes))\n",
    "    print(\"Number of prods {}\".format(len(prods)))\n",
    "    if wildcard:\n",
    "        prods.append(Production(\"?\",[Production(\"?\")]))\n",
    "    return induce_pcfg(Nonterminal(\"S\"),prods)"
   ],
   "metadata": {
    "collapsed": false,
    "pycharm": {
     "name": "#%%\n",
     "is_executing": false
    }
   }
  },
  {
   "cell_type": "code",
   "execution_count": 13,
   "outputs": [
    {
     "name": "stdout",
     "text": [
      "(TOP\n",
      "  (S\n",
      "    (S\n",
      "      (VP\n",
      "        (VBN Turned)\n",
      "        (ADVP (RB loose))\n",
      "        (PP\n",
      "          (IN in)\n",
      "          (NP\n",
      "            (NP (NNP Shane) (NNP Longman) (POS 's))\n",
      "            (NN trading)\n",
      "            (NN room)))))\n",
      "    (, ,)\n",
      "    (NP (DT the) (NN yuppie) (NNS dealers))\n",
      "    (VP (AUX do) (NP (NP (RB little)) (ADJP (RB right))))\n",
      "    (. .)))\n",
      "[TOP -> S, S -> S , NP VP ., S -> VP, VP -> VBN ADVP PP, VBN -> 'Turned', ADVP -> RB, RB -> 'loose', PP -> IN NP, IN -> 'in', NP -> NP NN NN, NP -> NNP NNP POS, NNP -> 'Shane', NNP -> 'Longman', POS -> \"'s\", NN -> 'trading', NN -> 'room', , -> ',', NP -> DT NN NNS, DT -> 'the', NN -> 'yuppie', NNS -> 'dealers', VP -> AUX NP, AUX -> 'do', NP -> NP ADJP, NP -> RB, RB -> 'little', ADJP -> RB, RB -> 'right', . -> '.']\n",
      "$\n",
      "(TOP\n",
      "  (S\n",
      "    (S\n",
      "      (VP\n",
      "        (VBN Turned)\n",
      "        (VP|<ADVP-PP>\n",
      "          (ADVP (RB loose))\n",
      "          (PP\n",
      "            (IN in)\n",
      "            (NP\n",
      "              (NP (NNP Shane) (NP|<NNP-POS> (NNP Longman) (POS 's)))\n",
      "              (NP|<NN-NN> (NN trading) (NN room)))))))\n",
      "    (S|<,-NP-VP-.>\n",
      "      (, ,)\n",
      "      (S|<NP-VP-.>\n",
      "        (NP (DT the) (NP|<NN-NNS> (NN yuppie) (NNS dealers)))\n",
      "        (S|<VP-.>\n",
      "          (VP (AUX do) (NP (NP (RB little)) (ADJP (RB right))))\n",
      "          (. .))))))\n",
      "[TOP -> S, S -> S S|<,, S -> VP, VP -> VBN VP|<ADVP, VBN -> 'Turned', VP|<ADVP -> ADVP PP, ADVP -> RB, RB -> 'loose', PP -> IN NP, IN -> 'in', NP -> NP NP|<NN, NP -> NNP NP|<NNP, NNP -> 'Shane', NP|<NNP -> NNP POS, NNP -> 'Longman', POS -> \"'s\", NP|<NN -> NN NN, NN -> 'trading', NN -> 'room', S|<, -> , S|<NP, , -> ',', S|<NP -> NP S|<VP, NP -> DT NP|<NN, DT -> 'the', NP|<NN -> NN NNS, NN -> 'yuppie', NNS -> 'dealers', S|<VP -> VP ., VP -> AUX NP, AUX -> 'do', NP -> NP ADJP, NP -> RB, RB -> 'little', ADJP -> RB, RB -> 'right', . -> '.']\n"
     ],
     "output_type": "stream"
    }
   ],
   "source": [
    "sentence = Tree.fromstring(\"\"\"(TOP\n",
    "  (S\n",
    "    (S\n",
    "      (VP\n",
    "        (VBN Turned)\n",
    "        (ADVP (RB loose))\n",
    "        (PP\n",
    "          (IN in)\n",
    "          (NP\n",
    "            (NP (NNP Shane) (NNP Longman) (POS 's))\n",
    "            (NN trading)\n",
    "            (NN room)))))\n",
    "    (, ,)\n",
    "    (NP (DT the) (NN yuppie) (NNS dealers))\n",
    "    (VP (AUX do) (NP (NP (RB little)) (ADJP (RB right))))\n",
    "    (. .)))\"\"\")\n",
    "\n",
    "print(sentence)\n",
    "print(list(tree_to_productions(sentence)))\n",
    "print('$')\n",
    "treetransforms.chomsky_normal_form(sentence)\n",
    "print(sentence)\n",
    "print(list(tree_to_productions(sentence)))\n",
    "\n"
   ],
   "metadata": {
    "collapsed": false,
    "pycharm": {
     "name": "#%%\n",
     "is_executing": false
    }
   }
  },
  {
   "cell_type": "code",
   "execution_count": 14,
   "outputs": [
    {
     "name": "stdout",
     "text": [
      "Number of interior nodes {'interior_nodes': 355304}\n",
      "Number of prods 176751\n",
      "Number of interior nodes {'interior_nodes': 295408}\n",
      "Number of prods 146803\n",
      "Ratio of productions is:  1.20400128062778 (cnf/not-cnf)\n"
     ],
     "output_type": "stream"
    }
   ],
   "source": [
    "pcfg_cnf = induce_prod_dists_cnf(treebank, -1)\n",
    "pcfg_all = induce_prod_dists(treebank,-1)\n",
    "print('Ratio of productions is: ',176751/146803, '(cnf/not-cnf)')"
   ],
   "metadata": {
    "collapsed": false,
    "pycharm": {
     "name": "#%%\n",
     "is_executing": false
    }
   }
  },
  {
   "cell_type": "markdown",
   "source": [
    "##Question 2.4\n",
    "We can conclude that the CNF form has more productions -> more interior nodes,\n",
    "because the CNF restricts us to a specific form of rules.\n",
    "e.g if we have a rule NP -> PROPN in order to convert it to the CNF form \n",
    "we need to add 1 more rule to describe that derivation, therefore,\n",
    "CNF trees are much more wider (more rules and Non-terminals)."
   ],
   "metadata": {
    "collapsed": false
   }
  },
  {
   "cell_type": "code",
   "execution_count": 15,
   "outputs": [
    {
     "name": "stdout",
     "text": [
      "Number of interior nodes {'interior_nodes': 295408}\n",
      "Number of prods 146803\n"
     ],
     "output_type": "stream"
    }
   ],
   "source": [
    "def calc_prods(treebank,n):\n",
    "    def get_tag(tree,interior_nodes):\n",
    "        if isinstance(tree, Tree):\n",
    "            interior_nodes[\"interior_nodes\"] = interior_nodes.get(\"interior_nodes\") + 1 \n",
    "            return Nonterminal(simplify_functional_tag(tree.label()))\n",
    "        else:\n",
    "            return tree\n",
    "\n",
    "    def tree_to_production(tree,interior_nodes,father):\n",
    "        return Production(get_tag(tree,interior_nodes), [get_tag(child,interior_nodes) for child in tree]), father\n",
    "    \n",
    "    none_pred = lambda x: x.label() == '-NONE-'\n",
    "    \n",
    "    def do_not_exist_NONE(tree):\n",
    "        for child in tree:\n",
    "            if isinstance(child,Tree) and none_pred(child):\n",
    "                return False\n",
    "        return True\n",
    "    \n",
    "    def tree_to_productions(tree, interior_nodes={\"interior_nodes\": 0}, father=\"The almighty\"):\n",
    "        if do_not_exist_NONE(tree):      \n",
    "            yield tree_to_production(tree, interior_nodes,father)\n",
    "            for child in tree:\n",
    "                if isinstance(child, Tree):\n",
    "                    for prod in tree_to_productions(child, interior_nodes,tree.label()):\n",
    "                        yield prod\n",
    "                    \n",
    "    prods_counter = 0\n",
    "    prod_dists = defaultdict(int)\n",
    "    interior_nodes = {\"interior_nodes\": 0}\n",
    "    \n",
    "    for tree in treebank.parsed_sents()[:n]:\n",
    "        gen = tree_to_productions(tree,interior_nodes)\n",
    "        for prod,father in gen:\n",
    "            prod_dists[(prod,father)] = prod_dists.get((prod,father),0) + 1\n",
    "            prods_counter+=1\n",
    "    \n",
    "    print(\"Number of interior nodes {}\".format(interior_nodes))\n",
    "    print(\"Number of prods {}\".format(prods_counter))\n",
    "    return prod_dists\n",
    "\n",
    "\n",
    "prod_dists = calc_prods(treebank,-1)\n",
    "\n",
    "def plot_dists(count,highest=10):\n",
    "    labels, values = zip(*count.items())\n",
    "    \n",
    "    labels = labels[:highest]\n",
    "    values = values[:highest]\n",
    "    indexes = np.arange(len(labels))\n",
    "    width = 1\n",
    "    \n",
    "    plt.figure()\n",
    "    plt.bar(indexes, values, width)\n",
    "    plt.xticks(indexes + width * 0.5, labels)\n",
    "    plt.show()\n",
    "\n",
    "\n",
    "pred1 = lambda x,y: str(x.lhs()) == \"NP\"\n",
    "pred2 = lambda x,y: str(x.lhs()) == \"NP\" and y == \"S\"\n",
    "pred3 = lambda x,y: str(x.lhs()) == \"NP\" and y == \"VP\"\n",
    "\n",
    "\n",
    "def compute_rhs(prod_dists,pred, highest=10):\n",
    "    count = {}\n",
    "    for (prod,father), val in prod_dists.items():\n",
    "        if pred(prod,father):\n",
    "            if prod in count:\n",
    "                count[prod] += val\n",
    "            else:\n",
    "                count[prod] = val\n",
    "    count = sort_dict(count)\n",
    "    print(list(count.items())[:20])\n",
    "    plot_dists(count)\n",
    "    return count\n",
    "    "
   ],
   "metadata": {
    "collapsed": false,
    "pycharm": {
     "name": "#%%\n",
     "is_executing": false
    }
   }
  },
  {
   "cell_type": "code",
   "execution_count": 16,
   "outputs": [
    {
     "name": "stdout",
     "text": [
      "[(NP -> NP PP, 3193), (NP -> DT NN, 2549), (NP -> PRP, 1350), (NP -> NNS, 1201), (NP -> NN, 1200), (NP -> NNP NNP, 1178), (NP -> NNP, 1132), (NP -> DT JJ NN, 802), (NP -> JJ NNS, 694), (NP -> NP SBAR, 518), (NP -> DT NNS, 490), (NP -> JJ NN, 435), (NP -> NN NNS, 385), (NP -> CD, 355), (NP -> NP CC NP, 348), (NP -> NP , NP, 343), (NP -> DT NN NN, 334), (NP -> NNP NNP NNP, 325), (NP -> CD NN, 309), (NP -> NP , NP ,, 302)]\n",
      "[(NP -> PRP, 973), (NP -> NP PP, 547), (NP -> DT NN, 500), (NP -> NNP NNP, 373), (NP -> NNS, 268), (NP -> NNP, 249), (NP -> NP , NP ,, 178), (NP -> DT NNS, 156), (NP -> NN NNS, 108), (NP -> JJ NNS, 99), (NP -> NN, 98), (NP -> DT JJ NN, 90), (NP -> DT NNP, 89), (NP -> NP SBAR, 73), (NP -> NP , SBAR ,, 65), (NP -> DT, 64), (NP -> EX, 62), (NP -> NP CC NP, 60), (NP -> DT NN NN, 48), (NP -> NNP NNP NNP, 47)]\n",
      "[(NP -> NP PP, 932), (NP -> DT NN, 291), (NP -> NN, 201), (NP -> NP SBAR, 193), (NP -> PRP, 129), (NP -> NNS, 126), (NP -> DT JJ NN, 119), (NP -> JJ NNS, 100), (NP -> JJ NN, 85), (NP -> CD NN, 69), (NP -> NP VP, 65), (NP -> DT NNS, 63), (NP -> NP PP PP, 55), (NP -> NN NNS, 55), (NP -> PRP$ NN, 54), (NP -> CD, 51), (NP -> NP CC NP, 51), (NP -> NNP, 50), (NP -> DT NN NN, 47), (NP -> PRP$ NNS, 43)]\n"
     ],
     "output_type": "stream"
    },
    {
     "data": {
      "text/plain": "<Figure size 1080x1080 with 1 Axes>",
      "image/png": "[encoded data removed]"
     },
     "metadata": {
      "needs_background": "light"
     },
     "output_type": "display_data"
    },
    {
     "data": {
      "text/plain": "<Figure size 1080x1080 with 1 Axes>",
      "image/png": "[encoded data removed]"
     },
     "metadata": {
      "needs_background": "light"
     },
     "output_type": "display_data"
    },
    {
     "data": {
      "text/plain": "<Figure size 1080x1080 with 1 Axes>",
      "image/png": "[encoded data removed]"
     },
     "metadata": {
      "needs_background": "light"
     },
     "output_type": "display_data"
    }
   ],
   "source": [
    "no_father = compute_rhs(prod_dists,pred1)\n",
    "s_father = compute_rhs(prod_dists,pred2)\n",
    "vp_father = compute_rhs(prod_dists,pred3)\n"
   ],
   "metadata": {
    "collapsed": false,
    "pycharm": {
     "name": "#%%\n",
     "is_executing": false
    }
   }
  },
  {
   "cell_type": "code",
   "execution_count": 17,
   "outputs": [
    {
     "name": "stdout",
     "text": [
      "0.3528262019383069\n",
      "0.3090660067402654\n",
      "0.746169802473304\n"
     ],
     "output_type": "stream"
    }
   ],
   "source": [
    "def kl_div(P,Q):\n",
    "    \"\"\"Pre: P,Q are MLEProbDist objects\"\"\"\n",
    "    summary = []\n",
    "    eps = 0.0001\n",
    "    SP = set(tuple(P.freqdist().keys()))\n",
    "    if len(SP) == 0: return 1\n",
    "    SQ = set(tuple(Q.freqdist().keys()))\n",
    "    SU = SP.union(SQ)\n",
    "    \n",
    "    pc = eps*len(SU.difference(SP))/len(SP)\n",
    "    qc = eps*len(SU.difference(SQ))/len(SQ)\n",
    "    \n",
    "    \n",
    "    for prod,counts in P.freqdist().items():\n",
    "        p = P.prob(prod) - pc if prod in SP and P.prob(prod) - pc >= 0 else eps\n",
    "        q = Q.prob(prod) - qc if prod in SQ and Q.prob(prod) - qc > 0 else eps \n",
    "        summary.append((p * math.log((p/q))))\n",
    "    return sum(summary)\n",
    "\n",
    "\n",
    "no_father_dist = MLEProbDist(FreqDist(no_father))\n",
    "s_father_dist = MLEProbDist(FreqDist(s_father))\n",
    "vp_father_dist = MLEProbDist(FreqDist(vp_father))\n",
    "\n",
    "print(kl_div(no_father_dist,s_father_dist))\n",
    "print(kl_div(no_father_dist,vp_father_dist))\n",
    "print(kl_div(s_father_dist,vp_father_dist))"
   ],
   "metadata": {
    "collapsed": false,
    "pycharm": {
     "name": "#%%\n",
     "is_executing": false
    }
   }
  },
  {
   "cell_type": "markdown",
   "source": [
    "We can infer from the kl-divergence and the graphs that the CFG hypothesis assumption doesn't hold,\n",
    "Which means the distributions are pretty different (kl-divergence between s_father&vp_father is high).\n",
    "and therefore, the node expansion is dependent on it's location on the tree."
   ],
   "metadata": {
    "collapsed": false,
    "pycharm": {
     "name": "#%% md\n"
    }
   }
  },
  {
   "cell_type": "markdown",
   "source": [
    "Question 3:"
   ],
   "metadata": {
    "collapsed": false,
    "pycharm": {
     "name": "#%% md\n"
    }
   }
  },
  {
   "cell_type": "code",
   "execution_count": 18,
   "outputs": [
    {
     "name": "stdout",
     "text": [
      "(S\n",
      "  (S-TPC-1\n",
      "    (NP-SBJ\n",
      "      (NP (NP (DT A) (NN form)) (PP (IN of) (NP (NN asbestos))))\n",
      "      (RRC\n",
      "        (ADVP-TMP (RB once))\n",
      "        (VP\n",
      "          (VBN used)\n",
      "          (NP (-NONE- *))\n",
      "          (S-CLR\n",
      "            (NP-SBJ (-NONE- *))\n",
      "            (VP\n",
      "              (TO to)\n",
      "              (VP\n",
      "                (VB make)\n",
      "                (NP (NNP Kent) (NN cigarette) (NNS filters))))))))\n",
      "    (VP\n",
      "      (VBZ has)\n",
      "      (VP\n",
      "        (VBN caused)\n",
      "        (NP\n",
      "          (NP (DT a) (JJ high) (NN percentage))\n",
      "          (PP (IN of) (NP (NN cancer) (NNS deaths)))\n",
      "          (PP-LOC\n",
      "            (IN among)\n",
      "            (NP\n",
      "              (NP (DT a) (NN group))\n",
      "              (PP\n",
      "                (IN of)\n",
      "                (NP\n",
      "                  (NP (NNS workers))\n",
      "                  (RRC\n",
      "                    (VP\n",
      "                      (VBN exposed)\n",
      "                      (NP (-NONE- *))\n",
      "                      (PP-CLR (TO to) (NP (PRP it)))\n",
      "                      (ADVP-TMP\n",
      "                        (NP\n",
      "                          (QP (RBR more) (IN than) (CD 30))\n",
      "                          (NNS years))\n",
      "                        (IN ago))))))))))))\n",
      "  (, ,)\n",
      "  (NP-SBJ (NNS researchers))\n",
      "  (VP (VBD reported) (SBAR (-NONE- 0) (S (-NONE- *T*-1))))\n",
      "  (. .))\n",
      "-------------------\n",
      "(S\n",
      "  (S\n",
      "    (NP\n",
      "      (NP (NP (DT A) (NN form)) (PP (IN of) (NP (NN asbestos))))\n",
      "      (RRC\n",
      "        (ADVP (RB once))\n",
      "        (VP\n",
      "          (VBN used)\n",
      "          (NP )\n",
      "          (S\n",
      "            (NP )\n",
      "            (VP\n",
      "              (TO to)\n",
      "              (VP\n",
      "                (VB make)\n",
      "                (NP (NNP Kent) (NN cigarette) (NNS filters))))))))\n",
      "    (VP\n",
      "      (VBZ has)\n",
      "      (VP\n",
      "        (VBN caused)\n",
      "        (NP\n",
      "          (NP (DT a) (JJ high) (NN percentage))\n",
      "          (PP (IN of) (NP (NN cancer) (NNS deaths)))\n",
      "          (PP\n",
      "            (IN among)\n",
      "            (NP\n",
      "              (NP (DT a) (NN group))\n",
      "              (PP\n",
      "                (IN of)\n",
      "                (NP\n",
      "                  (NP (NNS workers))\n",
      "                  (RRC\n",
      "                    (VP\n",
      "                      (VBN exposed)\n",
      "                      (NP )\n",
      "                      (PP (TO to) (NP (PRP it)))\n",
      "                      (ADVP\n",
      "                        (NP\n",
      "                          (QP (RBR more) (IN than) (CD 30))\n",
      "                          (NNS years))\n",
      "                        (IN ago))))))))))))\n",
      "  (, ,)\n",
      "  (NP (NNS researchers))\n",
      "  (VP (VBD reported) (SBAR (S ( *T*-1))))\n",
      "  (. .))\n"
     ],
     "output_type": "stream"
    }
   ],
   "source": [
    "tree_to_test = treebank.parsed_sents()[3]\n",
    "print(tree_to_test)\n",
    "\n",
    "\n",
    "\n",
    "def reformat_tags(tree):\n",
    "    q = []\n",
    "    q.append(tree)\n",
    "    while q:\n",
    "        node = q.pop(0)\n",
    "        if isinstance(node,Tree):\n",
    "            node._label = simplify_functional_tag(node.label())\n",
    "            for child in node:\n",
    "                q.append(child)\n",
    "        \n",
    "\n",
    "def filter_none(tree):\n",
    "    if not isinstance(tree, Tree):\n",
    "        return\n",
    "    for i,child in enumerate(tree):\n",
    "        if isinstance(child,Tree) and child.label() == '-NONE-':\n",
    "            tree.remove(tree[i])\n",
    "        else:\n",
    "            filter_none(child)\n",
    "\n",
    "filter_none(tree_to_test)\n",
    "reformat_tags(tree_to_test)\n",
    "print(\"-------------------\")\n",
    "print(tree_to_test)"
   ],
   "metadata": {
    "collapsed": false,
    "pycharm": {
     "name": "#%%\n",
     "is_executing": false
    }
   }
  },
  {
   "cell_type": "code",
   "execution_count": 19,
   "outputs": [
    {
     "name": "stdout",
     "text": [
      "Number of interior nodes {'interior_nodes': 287605}\n",
      "Number of prods 143072\n"
     ],
     "output_type": "stream"
    }
   ],
   "source": [
    "import random\n",
    "from nltk import ViterbiParser\n",
    "\n",
    "data = list(treebank.parsed_sents())\n",
    "random.shuffle(data)\n",
    "index = math.floor(len(data)*0.8)\n",
    "train_data = data[:index]\n",
    "test_data = data[index:]\n",
    "\n",
    "train_cnf_pcfg = pcfg_cnf_learn(treebank,index)\n",
    "    \n",
    "cnf_parser = ViterbiParser(train_cnf_pcfg)"
   ],
   "metadata": {
    "collapsed": false,
    "pycharm": {
     "name": "#%%\n",
     "is_executing": false
    }
   }
  },
  {
   "cell_type": "code",
   "execution_count": 22,
   "outputs": [],
   "source": [
    "def generate_constituents(parsed_tree,parsed_sentence):\n",
    "    for tree in parsed_tree:\n",
    "        for subtree in tree.subtrees():\n",
    "            sen = subtree.leaves()\n",
    "            label = subtree.label() if isinstance(subtree,Tree) else subtree\n",
    "            if sen:\n",
    "                start = parsed_sentence.index(sen[0])\n",
    "                end = parsed_sentence.index(sen[-1])\n",
    "            yield label, start, end\n",
    "        \n",
    "def gen_const_real_tree(tree):\n",
    "    parsed_sentence = tree.leaves()\n",
    "    for subtree in tree.subtrees():\n",
    "        sen = subtree.leaves()\n",
    "        label = subtree.label() if isinstance(subtree,Tree) else subtree\n",
    "        if sen:\n",
    "            start = parsed_sentence.index(sen[0])\n",
    "            end = parsed_sentence.index(sen[-1])\n",
    "        yield label, start, end\n"
   ],
   "metadata": {
    "collapsed": false,
    "pycharm": {
     "name": "#%%\n",
     "is_executing": false
    }
   }
  },
  {
   "cell_type": "code",
   "execution_count": 26,
   "outputs": [
    {
     "name": "stdout",
     "text": [
      "Parsing sentence: ['Meanwhile', ',', 'most', 'investment-grade', 'bonds', 'ended', 'unchanged', 'to', 'as', 'much', 'as', '1\\\\/8', 'point', 'higher', '.']\n"
     ],
     "output_type": "stream"
    },
    {
     "traceback": [
      "\u001b[0;31m---------------------------------------------------------------------------\u001b[0m",
      "\u001b[0;31mKeyboardInterrupt\u001b[0m                         Traceback (most recent call last)",
      "\u001b[0;32m<ipython-input-26-29bb57af4e59>\u001b[0m in \u001b[0;36m<module>\u001b[0;34m\u001b[0m\n\u001b[1;32m     14\u001b[0m     \u001b[0mparsed_tree_gen\u001b[0m \u001b[0;34m=\u001b[0m \u001b[0mgenerate_constituents\u001b[0m\u001b[0;34m(\u001b[0m\u001b[0mparsed_tree\u001b[0m\u001b[0;34m,\u001b[0m\u001b[0mtree\u001b[0m\u001b[0;34m.\u001b[0m\u001b[0mleaves\u001b[0m\u001b[0;34m(\u001b[0m\u001b[0;34m)\u001b[0m\u001b[0;34m)\u001b[0m\u001b[0;34m\u001b[0m\u001b[0;34m\u001b[0m\u001b[0m\n\u001b[1;32m     15\u001b[0m     \u001b[0mreal_cons\u001b[0m \u001b[0;34m=\u001b[0m \u001b[0mlist\u001b[0m\u001b[0;34m(\u001b[0m\u001b[0mtree_gen\u001b[0m\u001b[0;34m)\u001b[0m\u001b[0;34m\u001b[0m\u001b[0;34m\u001b[0m\u001b[0m\n\u001b[0;32m---> 16\u001b[0;31m     \u001b[0mpred_cons\u001b[0m \u001b[0;34m=\u001b[0m \u001b[0mlist\u001b[0m\u001b[0;34m(\u001b[0m\u001b[0mparsed_tree_gen\u001b[0m\u001b[0;34m)\u001b[0m\u001b[0;34m\u001b[0m\u001b[0;34m\u001b[0m\u001b[0m\n\u001b[0m\u001b[1;32m     17\u001b[0m     \u001b[0;32mfor\u001b[0m \u001b[0mconst\u001b[0m \u001b[0;32min\u001b[0m \u001b[0mparsed_tree_gen\u001b[0m\u001b[0;34m:\u001b[0m\u001b[0;34m\u001b[0m\u001b[0;34m\u001b[0m\u001b[0m\n\u001b[1;32m     18\u001b[0m         \u001b[0;32mif\u001b[0m \u001b[0mconst\u001b[0m \u001b[0;32min\u001b[0m \u001b[0mreal_cons\u001b[0m\u001b[0;34m:\u001b[0m\u001b[0;34m\u001b[0m\u001b[0;34m\u001b[0m\u001b[0m\n",
      "\u001b[0;32m<ipython-input-22-4686cad72173>\u001b[0m in \u001b[0;36mgenerate_constituents\u001b[0;34m(parsed_tree, parsed_sentence)\u001b[0m\n\u001b[1;32m      1\u001b[0m \u001b[0;32mdef\u001b[0m \u001b[0mgenerate_constituents\u001b[0m\u001b[0;34m(\u001b[0m\u001b[0mparsed_tree\u001b[0m\u001b[0;34m,\u001b[0m\u001b[0mparsed_sentence\u001b[0m\u001b[0;34m)\u001b[0m\u001b[0;34m:\u001b[0m\u001b[0;34m\u001b[0m\u001b[0;34m\u001b[0m\u001b[0m\n\u001b[0;32m----> 2\u001b[0;31m     \u001b[0;32mfor\u001b[0m \u001b[0mtree\u001b[0m \u001b[0;32min\u001b[0m \u001b[0mparsed_tree\u001b[0m\u001b[0;34m:\u001b[0m\u001b[0;34m\u001b[0m\u001b[0;34m\u001b[0m\u001b[0m\n\u001b[0m\u001b[1;32m      3\u001b[0m         \u001b[0;32mfor\u001b[0m \u001b[0msubtree\u001b[0m \u001b[0;32min\u001b[0m \u001b[0mtree\u001b[0m\u001b[0;34m.\u001b[0m\u001b[0msubtrees\u001b[0m\u001b[0;34m(\u001b[0m\u001b[0;34m)\u001b[0m\u001b[0;34m:\u001b[0m\u001b[0;34m\u001b[0m\u001b[0;34m\u001b[0m\u001b[0m\n\u001b[1;32m      4\u001b[0m             \u001b[0msen\u001b[0m \u001b[0;34m=\u001b[0m \u001b[0msubtree\u001b[0m\u001b[0;34m.\u001b[0m\u001b[0mleaves\u001b[0m\u001b[0;34m(\u001b[0m\u001b[0;34m)\u001b[0m\u001b[0;34m\u001b[0m\u001b[0;34m\u001b[0m\u001b[0m\n\u001b[1;32m      5\u001b[0m             \u001b[0mlabel\u001b[0m \u001b[0;34m=\u001b[0m \u001b[0msubtree\u001b[0m\u001b[0;34m.\u001b[0m\u001b[0mlabel\u001b[0m\u001b[0;34m(\u001b[0m\u001b[0;34m)\u001b[0m \u001b[0;32mif\u001b[0m \u001b[0misinstance\u001b[0m\u001b[0;34m(\u001b[0m\u001b[0msubtree\u001b[0m\u001b[0;34m,\u001b[0m\u001b[0mTree\u001b[0m\u001b[0;34m)\u001b[0m \u001b[0;32melse\u001b[0m \u001b[0msubtree\u001b[0m\u001b[0;34m\u001b[0m\u001b[0;34m\u001b[0m\u001b[0m\n",
      "\u001b[0;32m~/PycharmProjects/NLPAss3/venv/lib/python3.7/site-packages/nltk/parse/viterbi.py\u001b[0m in \u001b[0;36mparse\u001b[0;34m(self, tokens)\u001b[0m\n\u001b[1;32m    144\u001b[0m             \u001b[0;32mfor\u001b[0m \u001b[0mstart\u001b[0m \u001b[0;32min\u001b[0m \u001b[0mrange\u001b[0m\u001b[0;34m(\u001b[0m\u001b[0mlen\u001b[0m\u001b[0;34m(\u001b[0m\u001b[0mtokens\u001b[0m\u001b[0;34m)\u001b[0m \u001b[0;34m-\u001b[0m \u001b[0mlength\u001b[0m \u001b[0;34m+\u001b[0m \u001b[0;36m1\u001b[0m\u001b[0;34m)\u001b[0m\u001b[0;34m:\u001b[0m\u001b[0;34m\u001b[0m\u001b[0;34m\u001b[0m\u001b[0m\n\u001b[1;32m    145\u001b[0m                 \u001b[0mspan\u001b[0m \u001b[0;34m=\u001b[0m \u001b[0;34m(\u001b[0m\u001b[0mstart\u001b[0m\u001b[0;34m,\u001b[0m \u001b[0mstart\u001b[0m \u001b[0;34m+\u001b[0m \u001b[0mlength\u001b[0m\u001b[0;34m)\u001b[0m\u001b[0;34m\u001b[0m\u001b[0;34m\u001b[0m\u001b[0m\n\u001b[0;32m--> 146\u001b[0;31m                 \u001b[0mself\u001b[0m\u001b[0;34m.\u001b[0m\u001b[0m_add_constituents_spanning\u001b[0m\u001b[0;34m(\u001b[0m\u001b[0mspan\u001b[0m\u001b[0;34m,\u001b[0m \u001b[0mconstituents\u001b[0m\u001b[0;34m,\u001b[0m \u001b[0mtokens\u001b[0m\u001b[0;34m)\u001b[0m\u001b[0;34m\u001b[0m\u001b[0;34m\u001b[0m\u001b[0m\n\u001b[0m\u001b[1;32m    147\u001b[0m \u001b[0;34m\u001b[0m\u001b[0m\n\u001b[1;32m    148\u001b[0m         \u001b[0;31m# Return the tree that spans the entire text & have the right cat\u001b[0m\u001b[0;34m\u001b[0m\u001b[0;34m\u001b[0m\u001b[0;34m\u001b[0m\u001b[0m\n",
      "\u001b[0;32m~/PycharmProjects/NLPAss3/venv/lib/python3.7/site-packages/nltk/parse/viterbi.py\u001b[0m in \u001b[0;36m_add_constituents_spanning\u001b[0;34m(self, span, constituents, tokens)\u001b[0m\n\u001b[1;32m    193\u001b[0m             \u001b[0;31m# Find all ways instantiations of the grammar productions that\u001b[0m\u001b[0;34m\u001b[0m\u001b[0;34m\u001b[0m\u001b[0;34m\u001b[0m\u001b[0m\n\u001b[1;32m    194\u001b[0m             \u001b[0;31m# cover the span.\u001b[0m\u001b[0;34m\u001b[0m\u001b[0;34m\u001b[0m\u001b[0;34m\u001b[0m\u001b[0m\n\u001b[0;32m--> 195\u001b[0;31m             \u001b[0minstantiations\u001b[0m \u001b[0;34m=\u001b[0m \u001b[0mself\u001b[0m\u001b[0;34m.\u001b[0m\u001b[0m_find_instantiations\u001b[0m\u001b[0;34m(\u001b[0m\u001b[0mspan\u001b[0m\u001b[0;34m,\u001b[0m \u001b[0mconstituents\u001b[0m\u001b[0;34m)\u001b[0m\u001b[0;34m\u001b[0m\u001b[0;34m\u001b[0m\u001b[0m\n\u001b[0m\u001b[1;32m    196\u001b[0m \u001b[0;34m\u001b[0m\u001b[0m\n\u001b[1;32m    197\u001b[0m             \u001b[0;31m# For each production instantiation, add a new\u001b[0m\u001b[0;34m\u001b[0m\u001b[0;34m\u001b[0m\u001b[0;34m\u001b[0m\u001b[0m\n",
      "\u001b[0;32m~/PycharmProjects/NLPAss3/venv/lib/python3.7/site-packages/nltk/parse/viterbi.py\u001b[0m in \u001b[0;36m_find_instantiations\u001b[0;34m(self, span, constituents)\u001b[0m\n\u001b[1;32m    245\u001b[0m         \u001b[0mrv\u001b[0m \u001b[0;34m=\u001b[0m \u001b[0;34m[\u001b[0m\u001b[0;34m]\u001b[0m\u001b[0;34m\u001b[0m\u001b[0;34m\u001b[0m\u001b[0m\n\u001b[1;32m    246\u001b[0m         \u001b[0;32mfor\u001b[0m \u001b[0mproduction\u001b[0m \u001b[0;32min\u001b[0m \u001b[0mself\u001b[0m\u001b[0;34m.\u001b[0m\u001b[0m_grammar\u001b[0m\u001b[0;34m.\u001b[0m\u001b[0mproductions\u001b[0m\u001b[0;34m(\u001b[0m\u001b[0;34m)\u001b[0m\u001b[0;34m:\u001b[0m\u001b[0;34m\u001b[0m\u001b[0;34m\u001b[0m\u001b[0m\n\u001b[0;32m--> 247\u001b[0;31m             \u001b[0mchildlists\u001b[0m \u001b[0;34m=\u001b[0m \u001b[0mself\u001b[0m\u001b[0;34m.\u001b[0m\u001b[0m_match_rhs\u001b[0m\u001b[0;34m(\u001b[0m\u001b[0mproduction\u001b[0m\u001b[0;34m.\u001b[0m\u001b[0mrhs\u001b[0m\u001b[0;34m(\u001b[0m\u001b[0;34m)\u001b[0m\u001b[0;34m,\u001b[0m \u001b[0mspan\u001b[0m\u001b[0;34m,\u001b[0m \u001b[0mconstituents\u001b[0m\u001b[0;34m)\u001b[0m\u001b[0;34m\u001b[0m\u001b[0;34m\u001b[0m\u001b[0m\n\u001b[0m\u001b[1;32m    248\u001b[0m \u001b[0;34m\u001b[0m\u001b[0m\n\u001b[1;32m    249\u001b[0m             \u001b[0;32mfor\u001b[0m \u001b[0mchildlist\u001b[0m \u001b[0;32min\u001b[0m \u001b[0mchildlists\u001b[0m\u001b[0;34m:\u001b[0m\u001b[0;34m\u001b[0m\u001b[0;34m\u001b[0m\u001b[0m\n",
      "\u001b[0;32m~/PycharmProjects/NLPAss3/venv/lib/python3.7/site-packages/nltk/parse/viterbi.py\u001b[0m in \u001b[0;36m_match_rhs\u001b[0;34m(self, rhs, span, constituents)\u001b[0m\n\u001b[1;32m    288\u001b[0m         \u001b[0mchildlists\u001b[0m \u001b[0;34m=\u001b[0m \u001b[0;34m[\u001b[0m\u001b[0;34m]\u001b[0m\u001b[0;34m\u001b[0m\u001b[0;34m\u001b[0m\u001b[0m\n\u001b[1;32m    289\u001b[0m         \u001b[0;32mfor\u001b[0m \u001b[0msplit\u001b[0m \u001b[0;32min\u001b[0m \u001b[0mrange\u001b[0m\u001b[0;34m(\u001b[0m\u001b[0mstart\u001b[0m\u001b[0;34m,\u001b[0m \u001b[0mend\u001b[0m \u001b[0;34m+\u001b[0m \u001b[0;36m1\u001b[0m\u001b[0;34m)\u001b[0m\u001b[0;34m:\u001b[0m\u001b[0;34m\u001b[0m\u001b[0;34m\u001b[0m\u001b[0m\n\u001b[0;32m--> 290\u001b[0;31m             \u001b[0ml\u001b[0m \u001b[0;34m=\u001b[0m \u001b[0mconstituents\u001b[0m\u001b[0;34m.\u001b[0m\u001b[0mget\u001b[0m\u001b[0;34m(\u001b[0m\u001b[0;34m(\u001b[0m\u001b[0mstart\u001b[0m\u001b[0;34m,\u001b[0m \u001b[0msplit\u001b[0m\u001b[0;34m,\u001b[0m \u001b[0mrhs\u001b[0m\u001b[0;34m[\u001b[0m\u001b[0;36m0\u001b[0m\u001b[0;34m]\u001b[0m\u001b[0;34m)\u001b[0m\u001b[0;34m)\u001b[0m\u001b[0;34m\u001b[0m\u001b[0;34m\u001b[0m\u001b[0m\n\u001b[0m\u001b[1;32m    291\u001b[0m             \u001b[0;32mif\u001b[0m \u001b[0ml\u001b[0m \u001b[0;32mis\u001b[0m \u001b[0;32mnot\u001b[0m \u001b[0;32mNone\u001b[0m\u001b[0;34m:\u001b[0m\u001b[0;34m\u001b[0m\u001b[0;34m\u001b[0m\u001b[0m\n\u001b[1;32m    292\u001b[0m                 \u001b[0mrights\u001b[0m \u001b[0;34m=\u001b[0m \u001b[0mself\u001b[0m\u001b[0;34m.\u001b[0m\u001b[0m_match_rhs\u001b[0m\u001b[0;34m(\u001b[0m\u001b[0mrhs\u001b[0m\u001b[0;34m[\u001b[0m\u001b[0;36m1\u001b[0m\u001b[0;34m:\u001b[0m\u001b[0;34m]\u001b[0m\u001b[0;34m,\u001b[0m \u001b[0;34m(\u001b[0m\u001b[0msplit\u001b[0m\u001b[0;34m,\u001b[0m \u001b[0mend\u001b[0m\u001b[0;34m)\u001b[0m\u001b[0;34m,\u001b[0m \u001b[0mconstituents\u001b[0m\u001b[0;34m)\u001b[0m\u001b[0;34m\u001b[0m\u001b[0;34m\u001b[0m\u001b[0m\n",
      "\u001b[0;32m~/PycharmProjects/NLPAss3/venv/lib/python3.7/site-packages/nltk/grammar.py\u001b[0m in \u001b[0;36m__hash__\u001b[0;34m(self)\u001b[0m\n\u001b[1;32m    148\u001b[0m         \u001b[0;32mreturn\u001b[0m \u001b[0mself\u001b[0m\u001b[0;34m.\u001b[0m\u001b[0m_symbol\u001b[0m \u001b[0;34m<\u001b[0m \u001b[0mother\u001b[0m\u001b[0;34m.\u001b[0m\u001b[0m_symbol\u001b[0m\u001b[0;34m\u001b[0m\u001b[0;34m\u001b[0m\u001b[0m\n\u001b[1;32m    149\u001b[0m \u001b[0;34m\u001b[0m\u001b[0m\n\u001b[0;32m--> 150\u001b[0;31m     \u001b[0;32mdef\u001b[0m \u001b[0m__hash__\u001b[0m\u001b[0;34m(\u001b[0m\u001b[0mself\u001b[0m\u001b[0;34m)\u001b[0m\u001b[0;34m:\u001b[0m\u001b[0;34m\u001b[0m\u001b[0;34m\u001b[0m\u001b[0m\n\u001b[0m\u001b[1;32m    151\u001b[0m         \u001b[0;32mreturn\u001b[0m \u001b[0mself\u001b[0m\u001b[0;34m.\u001b[0m\u001b[0m_hash\u001b[0m\u001b[0;34m\u001b[0m\u001b[0;34m\u001b[0m\u001b[0m\n\u001b[1;32m    152\u001b[0m \u001b[0;34m\u001b[0m\u001b[0m\n",
      "\u001b[0;32m/snap/pycharm-professional/179/plugins/python/helpers/pydev/_pydevd_bundle/pydevd_trace_dispatch_regular.py\u001b[0m in \u001b[0;36m__call__\u001b[0;34m(self, frame, event, arg)\u001b[0m\n\u001b[1;32m    470\u001b[0m             ).trace_dispatch(frame, event, arg)\n\u001b[1;32m    471\u001b[0m             \u001b[0;32mif\u001b[0m \u001b[0mret\u001b[0m \u001b[0;32mis\u001b[0m \u001b[0;32mNone\u001b[0m\u001b[0;34m:\u001b[0m\u001b[0;34m\u001b[0m\u001b[0;34m\u001b[0m\u001b[0m\n\u001b[0;32m--> 472\u001b[0;31m                 \u001b[0mcache_skips\u001b[0m\u001b[0;34m[\u001b[0m\u001b[0mframe_cache_key\u001b[0m\u001b[0;34m]\u001b[0m \u001b[0;34m=\u001b[0m \u001b[0;36m1\u001b[0m\u001b[0;34m\u001b[0m\u001b[0;34m\u001b[0m\u001b[0m\n\u001b[0m\u001b[1;32m    473\u001b[0m                 \u001b[0;32mif\u001b[0m \u001b[0mevent\u001b[0m \u001b[0;34m!=\u001b[0m \u001b[0;34m'call'\u001b[0m\u001b[0;34m:\u001b[0m \u001b[0mframe\u001b[0m\u001b[0;34m.\u001b[0m\u001b[0mf_trace\u001b[0m \u001b[0;34m=\u001b[0m \u001b[0mNO_FTRACE\u001b[0m\u001b[0;34m\u001b[0m\u001b[0;34m\u001b[0m\u001b[0m\n\u001b[1;32m    474\u001b[0m                 \u001b[0;32mreturn\u001b[0m \u001b[0;32mNone\u001b[0m\u001b[0;34m\u001b[0m\u001b[0;34m\u001b[0m\u001b[0m\n",
      "\u001b[0;31mKeyboardInterrupt\u001b[0m: "
     ],
     "ename": "KeyboardInterrupt",
     "evalue": "",
     "output_type": "error"
    }
   ],
   "source": [
    "for tree in treebank.parsed_sents()[index:]:\n",
    "    treetransforms.chomsky_normal_form(tree)\n",
    "    try:\n",
    "        a = train_cnf_pcfg.check_coverage(tree.leaves())\n",
    "    except Exception as e:\n",
    "        continue\n",
    "    reformat_tags(tree)\n",
    "    \n",
    "    print(\"Parsing sentence: {}\".format(tree.leaves()))\n",
    "    parsed_tree = cnf_parser.parse(tree.leaves())\n",
    "    precision = 0\n",
    "    recall = 0\n",
    "    tree_gen = gen_const_real_tree(tree)\n",
    "    parsed_tree_gen = generate_constituents(parsed_tree,tree.leaves())\n",
    "    real_cons = list(tree_gen)\n",
    "    pred_cons = list(parsed_tree_gen)\n",
    "    for const in parsed_tree_gen:\n",
    "        if const in real_cons:\n",
    "            precision +=1\n",
    "    precision = precision/len(pred_cons)\n",
    "    for const in tree_gen:\n",
    "        if const in pred_cons:\n",
    "            recall +=1\n",
    "    recall = recall / len(real_cons)\n",
    "    \n",
    "    \n",
    "    print(\"Precision: {}\".format(precision))\n",
    "    print(\"Recall: {}\".format(recall))\n",
    "        \n",
    "\n",
    "    break\n",
    "    # print(list(parsed_tree))"
   ],
   "metadata": {
    "collapsed": false,
    "pycharm": {
     "name": "#%%\n",
     "is_executing": false
    }
   }
  },
  {
   "cell_type": "code",
   "execution_count": 20,
   "outputs": [],
   "source": [],
   "metadata": {
    "collapsed": false,
    "pycharm": {
     "name": "#%%\n",
     "is_executing": false
    }
   }
  }
 ],
 "metadata": {
  "kernelspec": {
   "display_name": "Python 3",
   "language": "python",
   "name": "python3"
  },
  "language_info": {
   "codemirror_mode": {
    "name": "ipython",
    "version": 2
   },
   "file_extension": ".py",
   "mimetype": "text/x-python",
   "name": "python",
   "nbconvert_exporter": "python",
   "pygments_lexer": "ipython2",
   "version": "2.7.6"
  },
  "pycharm": {
   "stem_cell": {
    "cell_type": "raw",
    "source": [],
    "metadata": {
     "collapsed": false
    }
   }
  }
 },
 "nbformat": 4,
 "nbformat_minor": 0
}